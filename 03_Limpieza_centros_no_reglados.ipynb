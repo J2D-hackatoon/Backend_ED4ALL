{
  "cells": [
    {
      "cell_type": "code",
      "execution_count": 1,
      "metadata": {
        "id": "7YaH6mHa3061"
      },
      "outputs": [],
      "source": [
        "import pandas as pd\n",
        "import matplotlib.pyplot as plt"
      ]
    },
    {
      "cell_type": "code",
      "execution_count": 2,
      "metadata": {
        "id": "xl_wU3F932zX"
      },
      "outputs": [],
      "source": [
        "df = pd.read_csv('Input_Data/opendatabcn_educacio_ensenyament_no-reglat_rep.csv', encoding='utf-8-sig')"
      ]
    },
    {
      "cell_type": "code",
      "execution_count": 3,
      "metadata": {
        "colab": {
          "base_uri": "https://localhost:8080/"
        },
        "id": "QJdhXwsM4CQw",
        "outputId": "493e31f7-96d3-4c1c-a401-8221a77fa206"
      },
      "outputs": [
        {
          "data": {
            "text/plain": [
              "Index(['register_id', 'name', 'institution_id', 'institution_name', 'created',\n",
              "       'modified', 'addresses_roadtype_id', 'addresses_roadtype_name',\n",
              "       'addresses_road_id', 'addresses_road_name',\n",
              "       'addresses_start_street_number', 'addresses_end_street_number',\n",
              "       'addresses_neighborhood_id', 'addresses_neighborhood_name',\n",
              "       'addresses_district_id', 'addresses_district_name',\n",
              "       'addresses_zip_code', 'addresses_town', 'addresses_main_address',\n",
              "       'addresses_type', 'values_id', 'values_attribute_id', 'values_category',\n",
              "       'values_attribute_name', 'values_value', 'values_outstanding',\n",
              "       'values_description', 'secondary_filters_id', 'secondary_filters_name',\n",
              "       'secondary_filters_fullpath', 'secondary_filters_tree',\n",
              "       'secondary_filters_asia_id', 'geo_epgs_25831_x', 'geo_epgs_25831_y',\n",
              "       'geo_epgs_4326_x', 'geo_epgs_4326_y', 'estimated_dates', 'start_date',\n",
              "       'end_date'],\n",
              "      dtype='object')"
            ]
          },
          "execution_count": 3,
          "metadata": {},
          "output_type": "execute_result"
        }
      ],
      "source": [
        "df.columns"
      ]
    },
    {
      "cell_type": "code",
      "execution_count": 4,
      "metadata": {
        "colab": {
          "base_uri": "https://localhost:8080/"
        },
        "id": "Q3SS56jA5Rrk",
        "outputId": "4dfcd319-78a2-4c1b-f00f-2e70747126cd"
      },
      "outputs": [
        {
          "data": {
            "text/plain": [
              "register_id                      0.000000\n",
              "name                             0.000000\n",
              "institution_id                   0.936441\n",
              "institution_name                 0.936441\n",
              "created                          0.000000\n",
              "modified                         0.000000\n",
              "addresses_roadtype_id            1.000000\n",
              "addresses_roadtype_name          1.000000\n",
              "addresses_road_id                0.000000\n",
              "addresses_road_name              0.000000\n",
              "addresses_start_street_number    0.000000\n",
              "addresses_end_street_number      0.906780\n",
              "addresses_neighborhood_id        0.000000\n",
              "addresses_neighborhood_name      0.000000\n",
              "addresses_district_id            0.000000\n",
              "addresses_district_name          0.000000\n",
              "addresses_zip_code               0.000000\n",
              "addresses_town                   0.000000\n",
              "addresses_main_address           0.000000\n",
              "addresses_type                   1.000000\n",
              "values_id                        0.012712\n",
              "values_attribute_id              0.012712\n",
              "values_category                  0.012712\n",
              "values_attribute_name            0.012712\n",
              "values_value                     0.012712\n",
              "values_outstanding               0.012712\n",
              "values_description               0.970339\n",
              "secondary_filters_id             0.000000\n",
              "secondary_filters_name           0.000000\n",
              "secondary_filters_fullpath       0.000000\n",
              "secondary_filters_tree           0.000000\n",
              "secondary_filters_asia_id        0.000000\n",
              "geo_epgs_25831_x                 0.000000\n",
              "geo_epgs_25831_y                 0.000000\n",
              "geo_epgs_4326_x                  0.000000\n",
              "geo_epgs_4326_y                  0.000000\n",
              "estimated_dates                  1.000000\n",
              "start_date                       1.000000\n",
              "end_date                         1.000000\n",
              "dtype: float64"
            ]
          },
          "execution_count": 4,
          "metadata": {},
          "output_type": "execute_result"
        }
      ],
      "source": [
        "df.isna().sum() / df.shape[0]"
      ]
    },
    {
      "cell_type": "code",
      "execution_count": 5,
      "metadata": {
        "colab": {
          "base_uri": "https://localhost:8080/",
          "height": 603
        },
        "id": "y-fKlGBN7O3C",
        "outputId": "0df63ca2-50be-4f2d-af31-c5e06818858c"
      },
      "outputs": [
        {
          "data": {
            "text/html": [
              "<div>\n",
              "<style scoped>\n",
              "    .dataframe tbody tr th:only-of-type {\n",
              "        vertical-align: middle;\n",
              "    }\n",
              "\n",
              "    .dataframe tbody tr th {\n",
              "        vertical-align: top;\n",
              "    }\n",
              "\n",
              "    .dataframe thead th {\n",
              "        text-align: right;\n",
              "    }\n",
              "</style>\n",
              "<table border=\"1\" class=\"dataframe\">\n",
              "  <thead>\n",
              "    <tr style=\"text-align: right;\">\n",
              "      <th></th>\n",
              "      <th>register_id</th>\n",
              "      <th>name</th>\n",
              "      <th>institution_id</th>\n",
              "      <th>institution_name</th>\n",
              "      <th>created</th>\n",
              "      <th>modified</th>\n",
              "      <th>addresses_roadtype_id</th>\n",
              "      <th>addresses_roadtype_name</th>\n",
              "      <th>addresses_road_id</th>\n",
              "      <th>addresses_road_name</th>\n",
              "      <th>...</th>\n",
              "      <th>secondary_filters_fullpath</th>\n",
              "      <th>secondary_filters_tree</th>\n",
              "      <th>secondary_filters_asia_id</th>\n",
              "      <th>geo_epgs_25831_x</th>\n",
              "      <th>geo_epgs_25831_y</th>\n",
              "      <th>geo_epgs_4326_x</th>\n",
              "      <th>geo_epgs_4326_y</th>\n",
              "      <th>estimated_dates</th>\n",
              "      <th>start_date</th>\n",
              "      <th>end_date</th>\n",
              "    </tr>\n",
              "  </thead>\n",
              "  <tbody>\n",
              "    <tr>\n",
              "      <th>0</th>\n",
              "      <td>﻿99400632223</td>\n",
              "      <td>La Troca. Escola Comunitària de Formació Perma...</td>\n",
              "      <td>NaN</td>\n",
              "      <td>NaN</td>\n",
              "      <td>2019-07-16T11:41:10+02:00</td>\n",
              "      <td>2021-04-08T10:30:49.777986+02:00</td>\n",
              "      <td>NaN</td>\n",
              "      <td>NaN</td>\n",
              "      <td>235208</td>\n",
              "      <td>C Olzinelles</td>\n",
              "      <td>...</td>\n",
              "      <td>Planol BCN &gt;&gt; Educació &gt;&gt; Ensenyament no regla...</td>\n",
              "      <td>651</td>\n",
              "      <td>65103003002001</td>\n",
              "      <td>427805.406037</td>\n",
              "      <td>4.580515e+06</td>\n",
              "      <td>41.372918</td>\n",
              "      <td>2.136698</td>\n",
              "      <td>NaN</td>\n",
              "      <td>NaN</td>\n",
              "      <td>NaN</td>\n",
              "    </tr>\n",
              "    <tr>\n",
              "      <th>1</th>\n",
              "      <td>﻿99400632223</td>\n",
              "      <td>La Troca. Escola Comunitària de Formació Perma...</td>\n",
              "      <td>NaN</td>\n",
              "      <td>NaN</td>\n",
              "      <td>2019-07-16T11:41:10+02:00</td>\n",
              "      <td>2021-04-08T10:30:49.777986+02:00</td>\n",
              "      <td>NaN</td>\n",
              "      <td>NaN</td>\n",
              "      <td>235208</td>\n",
              "      <td>C Olzinelles</td>\n",
              "      <td>...</td>\n",
              "      <td>Planol BCN &gt;&gt; Educació &gt;&gt; Ensenyament no regla...</td>\n",
              "      <td>651</td>\n",
              "      <td>65103003002002</td>\n",
              "      <td>427805.406037</td>\n",
              "      <td>4.580515e+06</td>\n",
              "      <td>41.372918</td>\n",
              "      <td>2.136698</td>\n",
              "      <td>NaN</td>\n",
              "      <td>NaN</td>\n",
              "      <td>NaN</td>\n",
              "    </tr>\n",
              "    <tr>\n",
              "      <th>2</th>\n",
              "      <td>﻿92086028677</td>\n",
              "      <td>Centre de Formació de Persones Adultes El Clot</td>\n",
              "      <td>NaN</td>\n",
              "      <td>NaN</td>\n",
              "      <td>1988-11-11T00:00:00+01:00</td>\n",
              "      <td>2023-11-06T13:01:52.983222+01:00</td>\n",
              "      <td>NaN</td>\n",
              "      <td>NaN</td>\n",
              "      <td>42306</td>\n",
              "      <td>C Bilbao</td>\n",
              "      <td>...</td>\n",
              "      <td>Planol BCN &gt;&gt; Educació &gt;&gt; Ensenyament no regla...</td>\n",
              "      <td>651</td>\n",
              "      <td>65103003002000</td>\n",
              "      <td>432527.994252</td>\n",
              "      <td>4.584791e+06</td>\n",
              "      <td>41.411838</td>\n",
              "      <td>2.192689</td>\n",
              "      <td>NaN</td>\n",
              "      <td>NaN</td>\n",
              "      <td>NaN</td>\n",
              "    </tr>\n",
              "    <tr>\n",
              "      <th>3</th>\n",
              "      <td>﻿99400090280</td>\n",
              "      <td>Meca-Ràpid *Via Augusta</td>\n",
              "      <td>NaN</td>\n",
              "      <td>NaN</td>\n",
              "      <td>2004-06-14T12:19:15+02:00</td>\n",
              "      <td>2022-09-17T06:18:06.313464+02:00</td>\n",
              "      <td>NaN</td>\n",
              "      <td>NaN</td>\n",
              "      <td>28000</td>\n",
              "      <td>Via Augusta</td>\n",
              "      <td>...</td>\n",
              "      <td>Planol BCN &gt;&gt; Educació &gt;&gt; Ensenyament no regla...</td>\n",
              "      <td>651</td>\n",
              "      <td>65103003002002</td>\n",
              "      <td>428419.471442</td>\n",
              "      <td>4.583445e+06</td>\n",
              "      <td>41.399363</td>\n",
              "      <td>2.143694</td>\n",
              "      <td>NaN</td>\n",
              "      <td>NaN</td>\n",
              "      <td>NaN</td>\n",
              "    </tr>\n",
              "    <tr>\n",
              "      <th>4</th>\n",
              "      <td>﻿92086009415</td>\n",
              "      <td>The British Council-Institut Britànic</td>\n",
              "      <td>NaN</td>\n",
              "      <td>NaN</td>\n",
              "      <td>1984-12-21T00:00:00+01:00</td>\n",
              "      <td>2021-11-08T12:57:02.319739+01:00</td>\n",
              "      <td>NaN</td>\n",
              "      <td>NaN</td>\n",
              "      <td>13909</td>\n",
              "      <td>Carrer d'Amigó</td>\n",
              "      <td>...</td>\n",
              "      <td>Planol BCN &gt;&gt; Educació &gt;&gt; Ensenyament no regla...</td>\n",
              "      <td>651</td>\n",
              "      <td>65103003002001</td>\n",
              "      <td>428234.946278</td>\n",
              "      <td>4.583240e+06</td>\n",
              "      <td>41.397498</td>\n",
              "      <td>2.141511</td>\n",
              "      <td>NaN</td>\n",
              "      <td>NaN</td>\n",
              "      <td>NaN</td>\n",
              "    </tr>\n",
              "  </tbody>\n",
              "</table>\n",
              "<p>5 rows × 39 columns</p>\n",
              "</div>"
            ],
            "text/plain": [
              "    register_id                                               name  \\\n",
              "0  ﻿99400632223  La Troca. Escola Comunitària de Formació Perma...   \n",
              "1  ﻿99400632223  La Troca. Escola Comunitària de Formació Perma...   \n",
              "2  ﻿92086028677     Centre de Formació de Persones Adultes El Clot   \n",
              "3  ﻿99400090280                            Meca-Ràpid *Via Augusta   \n",
              "4  ﻿92086009415              The British Council-Institut Britànic   \n",
              "\n",
              "   institution_id institution_name                    created  \\\n",
              "0             NaN              NaN  2019-07-16T11:41:10+02:00   \n",
              "1             NaN              NaN  2019-07-16T11:41:10+02:00   \n",
              "2             NaN              NaN  1988-11-11T00:00:00+01:00   \n",
              "3             NaN              NaN  2004-06-14T12:19:15+02:00   \n",
              "4             NaN              NaN  1984-12-21T00:00:00+01:00   \n",
              "\n",
              "                           modified  addresses_roadtype_id  \\\n",
              "0  2021-04-08T10:30:49.777986+02:00                    NaN   \n",
              "1  2021-04-08T10:30:49.777986+02:00                    NaN   \n",
              "2  2023-11-06T13:01:52.983222+01:00                    NaN   \n",
              "3  2022-09-17T06:18:06.313464+02:00                    NaN   \n",
              "4  2021-11-08T12:57:02.319739+01:00                    NaN   \n",
              "\n",
              "   addresses_roadtype_name  addresses_road_id addresses_road_name  ...  \\\n",
              "0                      NaN             235208        C Olzinelles  ...   \n",
              "1                      NaN             235208        C Olzinelles  ...   \n",
              "2                      NaN              42306            C Bilbao  ...   \n",
              "3                      NaN              28000         Via Augusta  ...   \n",
              "4                      NaN              13909      Carrer d'Amigó  ...   \n",
              "\n",
              "                          secondary_filters_fullpath  secondary_filters_tree  \\\n",
              "0  Planol BCN >> Educació >> Ensenyament no regla...                     651   \n",
              "1  Planol BCN >> Educació >> Ensenyament no regla...                     651   \n",
              "2  Planol BCN >> Educació >> Ensenyament no regla...                     651   \n",
              "3  Planol BCN >> Educació >> Ensenyament no regla...                     651   \n",
              "4  Planol BCN >> Educació >> Ensenyament no regla...                     651   \n",
              "\n",
              "   secondary_filters_asia_id geo_epgs_25831_x  geo_epgs_25831_y  \\\n",
              "0             65103003002001    427805.406037      4.580515e+06   \n",
              "1             65103003002002    427805.406037      4.580515e+06   \n",
              "2             65103003002000    432527.994252      4.584791e+06   \n",
              "3             65103003002002    428419.471442      4.583445e+06   \n",
              "4             65103003002001    428234.946278      4.583240e+06   \n",
              "\n",
              "  geo_epgs_4326_x  geo_epgs_4326_y estimated_dates  start_date  end_date  \n",
              "0       41.372918         2.136698             NaN         NaN       NaN  \n",
              "1       41.372918         2.136698             NaN         NaN       NaN  \n",
              "2       41.411838         2.192689             NaN         NaN       NaN  \n",
              "3       41.399363         2.143694             NaN         NaN       NaN  \n",
              "4       41.397498         2.141511             NaN         NaN       NaN  \n",
              "\n",
              "[5 rows x 39 columns]"
            ]
          },
          "execution_count": 5,
          "metadata": {},
          "output_type": "execute_result"
        }
      ],
      "source": [
        "df.head()"
      ]
    },
    {
      "cell_type": "code",
      "execution_count": 6,
      "metadata": {
        "id": "iC6jk6yL_lH2"
      },
      "outputs": [],
      "source": [
        "#Seleccionamos variables de interes"
      ]
    },
    {
      "cell_type": "code",
      "execution_count": 7,
      "metadata": {
        "id": "0Gk_kM4zCnrQ"
      },
      "outputs": [],
      "source": [
        "df['tipo_centro']='no_reglat'"
      ]
    },
    {
      "cell_type": "code",
      "execution_count": 8,
      "metadata": {
        "colab": {
          "base_uri": "https://localhost:8080/"
        },
        "id": "gZSpUC9JC5Kp",
        "outputId": "b8c35929-b1bf-4cb7-bb4b-f86d0d6fb1e2"
      },
      "outputs": [
        {
          "data": {
            "text/plain": [
              "Index(['register_id', 'name', 'institution_id', 'institution_name', 'created',\n",
              "       'modified', 'addresses_roadtype_id', 'addresses_roadtype_name',\n",
              "       'addresses_road_id', 'addresses_road_name',\n",
              "       'addresses_start_street_number', 'addresses_end_street_number',\n",
              "       'addresses_neighborhood_id', 'addresses_neighborhood_name',\n",
              "       'addresses_district_id', 'addresses_district_name',\n",
              "       'addresses_zip_code', 'addresses_town', 'addresses_main_address',\n",
              "       'addresses_type', 'values_id', 'values_attribute_id', 'values_category',\n",
              "       'values_attribute_name', 'values_value', 'values_outstanding',\n",
              "       'values_description', 'secondary_filters_id', 'secondary_filters_name',\n",
              "       'secondary_filters_fullpath', 'secondary_filters_tree',\n",
              "       'secondary_filters_asia_id', 'geo_epgs_25831_x', 'geo_epgs_25831_y',\n",
              "       'geo_epgs_4326_x', 'geo_epgs_4326_y', 'estimated_dates', 'start_date',\n",
              "       'end_date', 'tipo_centro'],\n",
              "      dtype='object')"
            ]
          },
          "execution_count": 8,
          "metadata": {},
          "output_type": "execute_result"
        }
      ],
      "source": [
        "df.columns"
      ]
    },
    {
      "cell_type": "code",
      "execution_count": 9,
      "metadata": {
        "id": "5oWFv4sCDUCw"
      },
      "outputs": [],
      "source": [
        "centros = df [['name', 'addresses_road_name',\n",
        "       'addresses_start_street_number',\n",
        "       'addresses_neighborhood_id', 'addresses_neighborhood_name','addresses_district_id', 'addresses_district_name',\n",
        "       'addresses_zip_code', 'values_value', 'secondary_filters_name',\n",
        "       'geo_epgs_4326_x', 'geo_epgs_4326_y','tipo_centro']]"
      ]
    },
    {
      "cell_type": "code",
      "execution_count": 10,
      "metadata": {
        "id": "i0DpgHa0FPDW"
      },
      "outputs": [],
      "source": [
        "centros=centros.rename(columns={'values_value':'phone_number','geo_epgs_4326_x':'longitude','geo_epgs_4326_y':'latitude'})"
      ]
    },
    {
      "cell_type": "code",
      "execution_count": 11,
      "metadata": {
        "id": "3k3IY5_4FeSw"
      },
      "outputs": [],
      "source": [
        "centros.to_csv('Input_Data\\centros_no_reglados_filtrados.csv', index= False)"
      ]
    }
  ],
  "metadata": {
    "colab": {
      "provenance": []
    },
    "kernelspec": {
      "display_name": "Python 3",
      "name": "python3"
    },
    "language_info": {
      "codemirror_mode": {
        "name": "ipython",
        "version": 3
      },
      "file_extension": ".py",
      "mimetype": "text/x-python",
      "name": "python",
      "nbconvert_exporter": "python",
      "pygments_lexer": "ipython3",
      "version": "3.10.9"
    }
  },
  "nbformat": 4,
  "nbformat_minor": 0
}
